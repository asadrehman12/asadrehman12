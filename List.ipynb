{
  "nbformat": 4,
  "nbformat_minor": 0,
  "metadata": {
    "colab": {
      "provenance": [],
      "gpuType": "T4",
      "authorship_tag": "ABX9TyOByzs8s9W1RN9UyCc0LVQG",
      "include_colab_link": true
    },
    "kernelspec": {
      "name": "python3",
      "display_name": "Python 3"
    },
    "language_info": {
      "name": "python"
    },
    "accelerator": "GPU"
  },
  "cells": [
    {
      "cell_type": "markdown",
      "metadata": {
        "id": "view-in-github",
        "colab_type": "text"
      },
      "source": [
        "<a href=\"https://colab.research.google.com/github/asadrehman12/asadrehman12/blob/main/List.ipynb\" target=\"_parent\"><img src=\"https://colab.research.google.com/assets/colab-badge.svg\" alt=\"Open In Colab\"/></a>"
      ]
    },
    {
      "cell_type": "code",
      "execution_count": null,
      "metadata": {
        "id": "XWOjO9XnNiYx"
      },
      "outputs": [],
      "source": [
        "# we are going to learn about what is list in python\n",
        "# so whenever we want to used list in python we used \"list\" keyword and used square braket as we used for matrix in mathematics.\n",
        "# there are certain properties of list.\n",
        "# we can easily insert, delete any kind of elements in it.\n",
        "# we can used any data type in a list like integer, float, string and booleann(true,false)\n",
        "# in other words we can say that list is mutable or changeable."
      ]
    },
    {
      "cell_type": "code",
      "source": [
        "chezain=[\"asad rehman\",\"taha azam khan\",5, True, False]\n",
        "chezain"
      ],
      "metadata": {
        "colab": {
          "base_uri": "https://localhost:8080/"
        },
        "id": "5QItc4FLPHrx",
        "outputId": "d08c5ac2-e935-4861-cb5a-5a217c1afcf9"
      },
      "execution_count": null,
      "outputs": [
        {
          "output_type": "execute_result",
          "data": {
            "text/plain": [
              "['asad rehman', 'taha azam khan', 5, True, False]"
            ]
          },
          "metadata": {},
          "execution_count": 12
        }
      ]
    },
    {
      "cell_type": "markdown",
      "source": [
        "**we can create empty list by simply used list key word and not write any thing in square braket**...."
      ],
      "metadata": {
        "id": "lJsaQ-HOPniV"
      }
    },
    {
      "cell_type": "code",
      "source": [
        "my_list=[]\n",
        "print(my_list)"
      ],
      "metadata": {
        "colab": {
          "base_uri": "https://localhost:8080/"
        },
        "id": "17GGtY6KRNlD",
        "outputId": "fc9a3a0d-986a-404e-e282-4c20a2ce081b"
      },
      "execution_count": null,
      "outputs": [
        {
          "output_type": "stream",
          "name": "stdout",
          "text": [
            "[]\n"
          ]
        }
      ]
    },
    {
      "cell_type": "code",
      "source": [
        "empty_list= list()\n",
        "print(empty_list)"
      ],
      "metadata": {
        "colab": {
          "base_uri": "https://localhost:8080/"
        },
        "id": "EVedrWheSaHn",
        "outputId": "beb42b32-903d-46c2-c9d5-037aee852730"
      },
      "execution_count": null,
      "outputs": [
        {
          "output_type": "stream",
          "name": "stdout",
          "text": [
            "[]\n"
          ]
        }
      ]
    },
    {
      "cell_type": "markdown",
      "source": [
        "**we can easily access any element in the list by using some specific key**"
      ],
      "metadata": {
        "id": "XpoAs6XBVAUh"
      }
    },
    {
      "cell_type": "code",
      "source": [
        "Tokri= [\"asad rehman\", \"taha azam khan\",6.6, \"day\",\"night\"]\n",
        "print(Tokri[1]) # here we use indexing for getting this element\n"
      ],
      "metadata": {
        "colab": {
          "base_uri": "https://localhost:8080/"
        },
        "id": "z_jV_4TSVLSd",
        "outputId": "d7dd02c0-4fef-4960-8568-df186dbf252f"
      },
      "execution_count": null,
      "outputs": [
        {
          "output_type": "stream",
          "name": "stdout",
          "text": [
            "taha azam khan\n"
          ]
        }
      ]
    },
    {
      "cell_type": "markdown",
      "source": [
        "**we can take a piece of elements from a list** **and this is called silicing**"
      ],
      "metadata": {
        "id": "I58HrOcsWQkp"
      }
    },
    {
      "cell_type": "code",
      "source": [
        "tokri=[\"computer\",\"cpu\",\"keyboard\",\"mouse\",5.6,10,True]\n",
        "tokri[0:5]"
      ],
      "metadata": {
        "colab": {
          "base_uri": "https://localhost:8080/"
        },
        "id": "xIumq7pkWfi4",
        "outputId": "3011504f-4ff4-4c69-830a-06b618ec929f"
      },
      "execution_count": null,
      "outputs": [
        {
          "output_type": "execute_result",
          "data": {
            "text/plain": [
              "['computer', 'cpu', 'keyboard', 'mouse', 5.6]"
            ]
          },
          "metadata": {},
          "execution_count": 2
        }
      ]
    },
    {
      "cell_type": "markdown",
      "source": [
        "**setp wise indexing**\n",
        "**in this wa we can take silice from code by our desire.**\n",
        "**Bsic sntax= name_of_variable[start vale of index:end value:hpw many steps we want to index]**"
      ],
      "metadata": {
        "id": "HE2zPkPNX0bx"
      }
    },
    {
      "cell_type": "code",
      "source": [
        "# as we print the above cell so we can use the above list variable which is tokri\n",
        "tokri[1:4:3]"
      ],
      "metadata": {
        "colab": {
          "base_uri": "https://localhost:8080/"
        },
        "id": "-yIjzCjtYaRP",
        "outputId": "34877a37-2b34-40a2-9ee4-2d33bef1b349"
      },
      "execution_count": null,
      "outputs": [
        {
          "output_type": "execute_result",
          "data": {
            "text/plain": [
              "['cpu']"
            ]
          },
          "metadata": {},
          "execution_count": 3
        }
      ]
    },
    {
      "cell_type": "markdown",
      "source": [
        "We can reverse our list by typing some key. which is given as\n",
        "list_name=[::-1]"
      ],
      "metadata": {
        "id": "w1SRaOX1qKhZ"
      }
    },
    {
      "cell_type": "code",
      "source": [
        "basket = [\"ali\",\"asad\",500,100, True, False]"
      ],
      "metadata": {
        "id": "KcxRkrYVqoBJ"
      },
      "execution_count": null,
      "outputs": []
    },
    {
      "cell_type": "code",
      "source": [
        "# the reverse version of the above cell is given below...\n",
        "\n",
        "Ulti_basket= basket[::-1]\n",
        "print(Ulti_basket)"
      ],
      "metadata": {
        "id": "-_MPVBCJq3Zh",
        "colab": {
          "base_uri": "https://localhost:8080/",
          "height": 0
        },
        "outputId": "fa7851b5-1fab-46ea-d3f2-f97110a02948"
      },
      "execution_count": 6,
      "outputs": [
        {
          "output_type": "stream",
          "name": "stdout",
          "text": [
            "[False, True, 100, 500, 'asad', 'ali']\n"
          ]
        }
      ]
    },
    {
      "cell_type": "markdown",
      "source": [
        "**we can replace some thing in list. on the other hand we can say that we can change things in the list. And the syntax that is used for this is list_name[domain:range]=[x,y] here in place of x and y we used those numbers which we want to change or which we want to add in the list....**"
      ],
      "metadata": {
        "id": "2cwrITzpsBTH"
      }
    },
    {
      "cell_type": "code",
      "source": [
        "thalaaa= [2,3,4,5,6,7,8,9,10]\n",
        "thalaaa"
      ],
      "metadata": {
        "colab": {
          "base_uri": "https://localhost:8080/",
          "height": 0
        },
        "id": "87nUQp3zu8hI",
        "outputId": "8a70ac70-7f22-4c83-dc3e-0219fefbfd79"
      },
      "execution_count": 8,
      "outputs": [
        {
          "output_type": "execute_result",
          "data": {
            "text/plain": [
              "[2, 3, 4, 5, 6, 7, 8, 9, 10]"
            ]
          },
          "metadata": {},
          "execution_count": 8
        }
      ]
    },
    {
      "cell_type": "code",
      "source": [
        "# here is the siliced version of the above list..\n",
        "thalaaa[0:5]=[200,700]\n",
        "thalaaa"
      ],
      "metadata": {
        "colab": {
          "base_uri": "https://localhost:8080/",
          "height": 0
        },
        "id": "bim-IyRcvwc1",
        "outputId": "7eff2561-f506-43c2-e308-e6ee2426aedb"
      },
      "execution_count": 10,
      "outputs": [
        {
          "output_type": "execute_result",
          "data": {
            "text/plain": [
              "[200, 700, 10]"
            ]
          },
          "metadata": {},
          "execution_count": 10
        }
      ]
    },
    {
      "cell_type": "markdown",
      "source": [
        "**Now we are going to perform different operation list like we perform different operations on numbers in mathematics..The operation is concatination which main aim is to add two lists.**"
      ],
      "metadata": {
        "id": "bldeNcAKwSEg"
      }
    },
    {
      "cell_type": "code",
      "source": [
        "# there many ways of doing this action..we can search it on google.\n",
        "# we discuss some of here..\n",
        "list_1=[1,2,3,4,5,6]\n",
        "list_2=[\"asad\",\"taha\",5,6]\n",
        "\n",
        "jama_list= list_1+list_2\n",
        "print(jama_list)"
      ],
      "metadata": {
        "colab": {
          "base_uri": "https://localhost:8080/",
          "height": 0
        },
        "id": "UiD8fw7ewwzP",
        "outputId": "e6e9e607-4c7a-46ad-91d6-6161039c4fc0"
      },
      "execution_count": 11,
      "outputs": [
        {
          "output_type": "stream",
          "name": "stdout",
          "text": [
            "[1, 2, 3, 4, 5, 6, 'asad', 'taha', 5, 6]\n"
          ]
        }
      ]
    },
    {
      "cell_type": "code",
      "source": [
        "list_1+=list_2 # this is basically the 2nd rule for doing to connect two list in python.\n",
        "print(list_1)"
      ],
      "metadata": {
        "colab": {
          "base_uri": "https://localhost:8080/",
          "height": 0
        },
        "id": "uTGeNWl74Bom",
        "outputId": "bf1b56e0-757b-40af-d82a-f7ba8cc31a43"
      },
      "execution_count": 12,
      "outputs": [
        {
          "output_type": "stream",
          "name": "stdout",
          "text": [
            "[1, 2, 3, 4, 5, 6, 'asad', 'taha', 5, 6]\n"
          ]
        }
      ]
    },
    {
      "cell_type": "markdown",
      "source": [
        "**We can replicate the items in the list by typing list_name* number of time we want to replicate the items in the list. we can multiply by any number.**"
      ],
      "metadata": {
        "id": "Mk7xDnwA4iF7"
      }
    },
    {
      "cell_type": "code",
      "source": [
        "new_list= list_1*4\n",
        "new_list\n",
        "# in this we print the requried code in column way..we can also represent this in horizontal way."
      ],
      "metadata": {
        "colab": {
          "base_uri": "https://localhost:8080/"
        },
        "id": "Xw20emkl83ED",
        "outputId": "10ba87b9-ad70-4e36-86f2-7de4e42c9d79"
      },
      "execution_count": 14,
      "outputs": [
        {
          "output_type": "execute_result",
          "data": {
            "text/plain": [
              "[1,\n",
              " 2,\n",
              " 3,\n",
              " 4,\n",
              " 5,\n",
              " 6,\n",
              " 'asad',\n",
              " 'taha',\n",
              " 5,\n",
              " 6,\n",
              " 1,\n",
              " 2,\n",
              " 3,\n",
              " 4,\n",
              " 5,\n",
              " 6,\n",
              " 'asad',\n",
              " 'taha',\n",
              " 5,\n",
              " 6,\n",
              " 1,\n",
              " 2,\n",
              " 3,\n",
              " 4,\n",
              " 5,\n",
              " 6,\n",
              " 'asad',\n",
              " 'taha',\n",
              " 5,\n",
              " 6,\n",
              " 1,\n",
              " 2,\n",
              " 3,\n",
              " 4,\n",
              " 5,\n",
              " 6,\n",
              " 'asad',\n",
              " 'taha',\n",
              " 5,\n",
              " 6]"
            ]
          },
          "metadata": {},
          "execution_count": 14
        }
      ]
    },
    {
      "cell_type": "markdown",
      "source": [
        "**we can add elements in an list in many ways some of them are discussed below.\n",
        "There is a important point that the append word accepts only 1 elements in its bracket.**"
      ],
      "metadata": {
        "id": "5SDo6nn_U6ht"
      }
    },
    {
      "cell_type": "code",
      "source": [
        "boxes=[\"asad\",\"taha\",\"azam\",\"khan\"]\n",
        "boxes\n",
        "dadaa=boxes.append(\"ali\")\n",
        "boxes"
      ],
      "metadata": {
        "colab": {
          "base_uri": "https://localhost:8080/"
        },
        "id": "x41cMey5V0tx",
        "outputId": "42224da8-3dd4-4692-ddac-ae0a567aa060"
      },
      "execution_count": 10,
      "outputs": [
        {
          "output_type": "execute_result",
          "data": {
            "text/plain": [
              "['asad', 'taha', 'azam', 'khan', 'ali']"
            ]
          },
          "metadata": {},
          "execution_count": 10
        }
      ]
    },
    {
      "cell_type": "markdown",
      "source": [
        "**An important point arises here: If we want to add more than 1 element at the end of the list, what should we do?\n",
        "the simple answer for this is we used the pre saved word in python that .extend.**"
      ],
      "metadata": {
        "id": "Lz6LkVwlX_cN"
      }
    },
    {
      "cell_type": "code",
      "source": [
        "new_list=[\"sajjad\",\"ghulam zohra\"]  # the syntax for this is we declare new list\n",
        "# then type the name of that list in which we want to add some thing than put that and after dot put the extent keyword and in bracket write the name of that new list than type the name of tat old list in which we want to add these things\n",
        "boxes.extend(new_list)\n",
        "boxes"
      ],
      "metadata": {
        "colab": {
          "base_uri": "https://localhost:8080/"
        },
        "id": "O6zvGygQYkRl",
        "outputId": "bb0a3abe-cf98-4362-ca30-382d0ee23521"
      },
      "execution_count": 11,
      "outputs": [
        {
          "output_type": "execute_result",
          "data": {
            "text/plain": [
              "['asad', 'taha', 'azam', 'khan', 'ali', 'sajjad', 'ghulam zohra']"
            ]
          },
          "metadata": {},
          "execution_count": 11
        }
      ]
    },
    {
      "cell_type": "markdown",
      "source": [
        "*we can insert the things at any point insides the list.**"
      ],
      "metadata": {
        "id": "MLtpDBS9Zn1s"
      }
    },
    {
      "cell_type": "code",
      "source": [
        "# for this we used syntax list_name(in which we want to insert something).insert(position,\"the thing we want to insert\")\n",
        "# Than we call the name of that list in which we want to insert the requried thing.\n",
        "\n",
        "boxes.insert(1,\"rehman\")\n",
        "boxes"
      ],
      "metadata": {
        "colab": {
          "base_uri": "https://localhost:8080/"
        },
        "id": "xsEuM6LyZyLU",
        "outputId": "7f918054-1351-4e32-824b-105b50f15c0c"
      },
      "execution_count": 12,
      "outputs": [
        {
          "output_type": "execute_result",
          "data": {
            "text/plain": [
              "['asad', 'rehman', 'taha', 'azam', 'khan', 'ali', 'sajjad', 'ghulam zohra']"
            ]
          },
          "metadata": {},
          "execution_count": 12
        }
      ]
    },
    {
      "cell_type": "markdown",
      "source": [
        "**we can remove anything from the list by POP keyword**"
      ],
      "metadata": {
        "id": "XIGOZDCnamwb"
      }
    },
    {
      "cell_type": "code",
      "source": [
        "# Syntax :;   list_name.pop(position number from which we want to remove something)\n",
        "boxes.pop(3)\n",
        "boxes\n",
        "# here we can easily see that the word azam on third place has been removes by pop word"
      ],
      "metadata": {
        "colab": {
          "base_uri": "https://localhost:8080/"
        },
        "id": "SA6Tm-TaaxWl",
        "outputId": "65376705-0f9a-4332-9530-abcc3b984d1b"
      },
      "execution_count": 13,
      "outputs": [
        {
          "output_type": "execute_result",
          "data": {
            "text/plain": [
              "['asad', 'rehman', 'taha', 'khan', 'ali', 'sajjad', 'ghulam zohra']"
            ]
          },
          "metadata": {},
          "execution_count": 13
        }
      ]
    },
    {
      "cell_type": "markdown",
      "source": [
        "**We can clear all the elements in the list by typing .clear **"
      ],
      "metadata": {
        "id": "N_84cw36bdrx"
      }
    },
    {
      "cell_type": "code",
      "source": [
        "big_box=[\"apple\",\"banana\",\"orange\",\"samosa\"]\n",
        "big_box.clear()\n",
        "big_box"
      ],
      "metadata": {
        "colab": {
          "base_uri": "https://localhost:8080/"
        },
        "id": "bTL4IKS6s-AI",
        "outputId": "bfca5b6b-8be3-477c-8a16-f17a8da9f774"
      },
      "execution_count": 14,
      "outputs": [
        {
          "output_type": "execute_result",
          "data": {
            "text/plain": [
              "[]"
            ]
          },
          "metadata": {},
          "execution_count": 14
        }
      ]
    },
    {
      "cell_type": "markdown",
      "source": [
        "**we can arranged or sort numbers in the list by just typing .sort**"
      ],
      "metadata": {
        "id": "HJaMhmrRtkX-"
      }
    },
    {
      "cell_type": "code",
      "source": [
        "num_list=[11,2,3,4,45,56]\n",
        "num_list.sort()\n",
        "num_list"
      ],
      "metadata": {
        "colab": {
          "base_uri": "https://localhost:8080/"
        },
        "id": "d5TBwcL0txQP",
        "outputId": "de856a27-98c3-4bd0-c046-05dead08f737"
      },
      "execution_count": 16,
      "outputs": [
        {
          "output_type": "execute_result",
          "data": {
            "text/plain": [
              "[2, 3, 4, 11, 45, 56]"
            ]
          },
          "metadata": {},
          "execution_count": 16
        }
      ]
    },
    {
      "cell_type": "markdown",
      "source": [
        "**GOOD WORK ASAD REHMAN...**"
      ],
      "metadata": {
        "id": "EafmFPnovTf3"
      }
    }
  ]
}