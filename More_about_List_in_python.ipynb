{
  "nbformat": 4,
  "nbformat_minor": 0,
  "metadata": {
    "colab": {
      "provenance": [],
      "gpuType": "T4",
      "authorship_tag": "ABX9TyMm19SqztA/3upNnRr+QhPD",
      "include_colab_link": true
    },
    "kernelspec": {
      "name": "python3",
      "display_name": "Python 3"
    },
    "language_info": {
      "name": "python"
    },
    "accelerator": "GPU"
  },
  "cells": [
    {
      "cell_type": "markdown",
      "metadata": {
        "id": "view-in-github",
        "colab_type": "text"
      },
      "source": [
        "<a href=\"https://colab.research.google.com/github/asadrehman12/asadrehman12/blob/main/More_about_List_in_python.ipynb\" target=\"_parent\"><img src=\"https://colab.research.google.com/assets/colab-badge.svg\" alt=\"Open In Colab\"/></a>"
      ]
    },
    {
      "cell_type": "markdown",
      "source": [
        "**Here we discuss some more operation we can perform on list in python.\n",
        "The First one is Nesting.\n",
        "The Nesting is some kind of trape.Here it mean is we create List in a list.Let see!**"
      ],
      "metadata": {
        "id": "CsNuYrlat-Gt"
      }
    },
    {
      "cell_type": "code",
      "source": [
        "# Lets make a matrix by using List. This is called nesting list. Here we create list in a list\n",
        "\n",
        "matrix= [[1,2,3],[4,5,6],[7,8,9]]\n",
        "print(matrix)"
      ],
      "metadata": {
        "colab": {
          "base_uri": "https://localhost:8080/"
        },
        "id": "YFq5d6CuukRl",
        "outputId": "eda8c762-c9f6-4305-f38f-e3653da2b051"
      },
      "execution_count": 1,
      "outputs": [
        {
          "output_type": "stream",
          "name": "stdout",
          "text": [
            "[[1, 2, 3], [4, 5, 6], [7, 8, 9]]\n"
          ]
        }
      ]
    },
    {
      "cell_type": "markdown",
      "source": [
        "**How we can get a entry ? from this type of list.\n",
        "The answer is pretty simple.\n",
        "we just first type the name of list than write the index of of that list and than write the index of that number in that particular list.Lets learn with the help of example.**"
      ],
      "metadata": {
        "id": "NH3xHnRovKVO"
      }
    },
    {
      "cell_type": "code",
      "source": [
        "# Lets we want to get 9 from matrix list.\n",
        "matrix[2][2]"
      ],
      "metadata": {
        "colab": {
          "base_uri": "https://localhost:8080/"
        },
        "id": "xP4m_whVvtRg",
        "outputId": "69d01d3c-a3af-4568-8967-471cee2791a3"
      },
      "execution_count": 2,
      "outputs": [
        {
          "output_type": "execute_result",
          "data": {
            "text/plain": [
              "9"
            ]
          },
          "metadata": {},
          "execution_count": 2
        }
      ]
    },
    {
      "cell_type": "markdown",
      "source": [
        "**The next action is List unpacking.In this we can store the elements of list equal to other elements.**"
      ],
      "metadata": {
        "id": "n9J6O0FKv9Dw"
      }
    },
    {
      "cell_type": "code",
      "source": [
        "fruits=[\"apple\",\"orange\",\"grapes\"]\n",
        "1,2,3==fruits\n",
        "fruits"
      ],
      "metadata": {
        "colab": {
          "base_uri": "https://localhost:8080/"
        },
        "id": "8MZeU_FMwQ9R",
        "outputId": "f4c0ee38-6d8f-45a6-bba1-a5ec6c89775b"
      },
      "execution_count": 4,
      "outputs": [
        {
          "output_type": "execute_result",
          "data": {
            "text/plain": [
              "['apple', 'orange', 'grapes']"
            ]
          },
          "metadata": {},
          "execution_count": 4
        }
      ]
    }
  ]
}