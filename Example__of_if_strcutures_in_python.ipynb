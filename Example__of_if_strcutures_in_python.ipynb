{
  "nbformat": 4,
  "nbformat_minor": 0,
  "metadata": {
    "colab": {
      "provenance": [],
      "gpuType": "T4",
      "authorship_tag": "ABX9TyOV05kKD+lN/DQPOb7+/L17",
      "include_colab_link": true
    },
    "kernelspec": {
      "name": "python3",
      "display_name": "Python 3"
    },
    "language_info": {
      "name": "python"
    },
    "accelerator": "GPU"
  },
  "cells": [
    {
      "cell_type": "markdown",
      "metadata": {
        "id": "view-in-github",
        "colab_type": "text"
      },
      "source": [
        "<a href=\"https://colab.research.google.com/github/asadrehman12/asadrehman12/blob/main/Example__of_if_strcutures_in_python.ipynb\" target=\"_parent\"><img src=\"https://colab.research.google.com/assets/colab-badge.svg\" alt=\"Open In Colab\"/></a>"
      ]
    },
    {
      "cell_type": "markdown",
      "source": [
        "**we talk about the if statement in python.And using this if structures we are going to solve some example. For information these if structures is also called conditional structures.**"
      ],
      "metadata": {
        "id": "gkRaY8zjiFrG"
      }
    },
    {
      "cell_type": "markdown",
      "source": [
        "**Assingment : Separate Even(positive) and Odd(negative) integer using if Statement.And if some someone type zero than tell him that your number is zero.**"
      ],
      "metadata": {
        "id": "e85SULmckJVX"
      }
    },
    {
      "cell_type": "code",
      "source": [
        "num = int(input(\"enter the number :\"))\n",
        "if num>0 and num%2==0:\n",
        "  print(\"number is even and positive\")\n",
        "elif num<0 and num%2==0:\n",
        "  print(\"number is even and negative\")\n",
        "elif num>0 and num%2 !=0:\n",
        "  print(\"number is odd and positive\")\n",
        "elif num<0 and num%2 !=0:\n",
        "  print(\"number is odd and negative\")\n",
        "else:\n",
        "  print(\"The given number is zero \")"
      ],
      "metadata": {
        "id": "QGk3eTsci9zQ"
      },
      "execution_count": null,
      "outputs": []
    },
    {
      "cell_type": "markdown",
      "source": [
        "**Bakery Application Using if structure.**\n",
        "**Consider an online bakery that limits order to a Dozen and requried checking two conditions.**\n",
        "\n",
        "*  Did the customer order dozen or fewer cookies ?\n",
        "*  Are there enough cookies in stock?\n",
        "\n"
      ],
      "metadata": {
        "id": "TO2nb73c6PQv"
      }
    },
    {
      "cell_type": "code",
      "source": [
        "cookies = int(input(\"enter the number of cookies :\"))\n",
        "cookies_in_stock = 100\n",
        "if cookies<=12:\n",
        "  print(\"order placed successfuly\")\n",
        "elif cookies>12 and cookies<cookies_in_stock:\n",
        "  print(\"sorry cannot order above from dozen cookies.\")\n",
        "else:\n",
        "  print(\"sorry we are out of stock.Will be re-stock soon.\")"
      ],
      "metadata": {
        "id": "t3Orscpt86ZL"
      },
      "execution_count": null,
      "outputs": []
    }
  ]
}